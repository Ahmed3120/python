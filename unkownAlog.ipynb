{
 "cells": [
  {
   "cell_type": "code",
   "execution_count": 3,
   "metadata": {},
   "outputs": [
    {
     "name": "stdout",
     "output_type": "stream",
     "text": [
      "The probablaty of buy number for yes and no  0.5 0.5\n"
     ]
    }
   ],
   "source": [
    "def numOf(table, item):\n",
    "    num_item = 0\n",
    "    for ite in table:\n",
    "        if ite == item:\n",
    "            num_item += 1\n",
    "    return num_item\n",
    "\n",
    "def probablaty(data, item, num_yes, num_no):\n",
    "    num_item = numOf(data, item)\n",
    "    \n",
    "    pro_data_yes = num_item / num_yes\n",
    "    pro_data_no  = num_item / num_no\n",
    "    \n",
    "    return pro_data_yes, pro_data_no\n",
    "    \n",
    "    \n",
    "\n",
    "data = [\n",
    "    \n",
    "    [\"youth\", \"youth\", \"middle\", \"old\", \"old\", \"old\"],\n",
    "    [\"high\",  \"high\", \"high\", \"mid\", \"low\", \"low\"],\n",
    "    [\"no\", \"no\", \"no\", \"no\", \"yes\", \"yes\"],\n",
    "    [\"fair\", \"excellent\", \"fair\", \"fair\", \"fair\", \"excellent\"],\n",
    "    [\"no\", \"no\", \"yes\", \"yes\", \"yes\", \"no\"]\n",
    "    \n",
    "]\n",
    "\n",
    "# p_forcast = input(\"choose one forcast to calc probablaty: \")\n",
    "# p_play    = input(\"play or no (select yes or no): \")\n",
    "\n",
    "buy_yes = numOf(data[4], \"yes\")\n",
    "buy_no  = len(data[4]) - buy_yes\n",
    "\n",
    "p_buy_yes = buy_yes / len(data[4])\n",
    "p_buy_no  = buy_no / len(data[4])\n",
    "\n",
    "print(\"The probablaty of buy number for yes and no \", p_buy_no, p_buy_yes)\n",
    "\n",
    "pro_data_yes, pro_data_no = probablaty()\n",
    "\n",
    "\n",
    "\n"
   ]
  },
  {
   "cell_type": "code",
   "execution_count": null,
   "metadata": {},
   "outputs": [],
   "source": []
  }
 ],
 "metadata": {
  "kernelspec": {
   "display_name": "Python 3",
   "language": "python",
   "name": "python3"
  },
  "language_info": {
   "codemirror_mode": {
    "name": "ipython",
    "version": 3
   },
   "file_extension": ".py",
   "mimetype": "text/x-python",
   "name": "python",
   "nbconvert_exporter": "python",
   "pygments_lexer": "ipython3",
   "version": "3.10.6 (main, Nov 14 2022, 16:10:14) [GCC 11.3.0]"
  },
  "orig_nbformat": 4,
  "vscode": {
   "interpreter": {
    "hash": "916dbcbb3f70747c44a77c7bcd40155683ae19c65e1c03b4aa3499c5328201f1"
   }
  }
 },
 "nbformat": 4,
 "nbformat_minor": 2
}
